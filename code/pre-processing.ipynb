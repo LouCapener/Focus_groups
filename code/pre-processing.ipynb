{
 "cells": [
  {
   "cell_type": "code",
   "execution_count": 34,
   "id": "119abd39-f1a1-4264-aa47-4baff6c52038",
   "metadata": {},
   "outputs": [],
   "source": [
    "%%capture                         \n",
    "                                  # This capture statement is optional and you can delete it or put a hashtag in front 