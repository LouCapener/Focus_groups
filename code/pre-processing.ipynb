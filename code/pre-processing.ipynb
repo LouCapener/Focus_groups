{
 "cells": [
  {
   "cell_type": "code",
   "execution_count": 1,
   "id": "119abd39-f1a1-4264-aa47-4baff6c52038",
   "metadata": {},
   "outputs": [],
   "source": [
    "%%capture                         \n",
    "                                  # This capture statement is optional and you can delete it or put a hashtag in front of it.\n",
    "                                  # Removing it will show all the \"chatter\" normally produced during import steps. \n",
    "\n",
    "# !pip install os\n",
    "import os                         # os is a module for navigating your machine (e.g., file directories).\n",
    "# !pip install wheel\n",
    "# !pip install pandas \n",
    "import pandas as pd               # pandas is necessary for working with data frames - shortening it to pd just saves time. \n",
    "pd.set_option('display.max_colwidth', 200)   # some of the files are big so set a big column width. \n",
    "# !pip install numpy\n",
    "import numpy as np                # like pandas, numpy is useful and useful to have a short name for\n",
    "# !pip install statistics\n",
    "import statistics                 # gotsta have stats\n",
    "# !pip install matplotlib\n",
    "import matplotlib as plt          # we are gonna want some plots\n",
    "\n",
    "\n",
    "# !pip install csv\n",
    "import csv                        # csv is for importing and working with csv files\n",
    "import re"
   ]
  },
  {
   "cell_type": "code",
   "execution_count": null,
   "id": "f07c24d3-b3e5-4338-a4b9-842787aa5766",
   "metadata": {},
   "outputs": [],
   "source": [
    "# Sorry Jools, I rewrote this for my mac but just comment out my line when you run it!\n",
    "\n",
    "print(os.listdir(\"../raw_data\")  )     \n",
    "# print(os.listdir(\"..\\\\raw_data\")  )  # check 'raw_data' folder is not empty/has correct stuff and to know what is the correct file to import"
   ]
  },
  {
   "cell_type": "code",
   "execution_count": null,
   "id": "2b23de60-df72-48f2-a1b8-7d86d595e6e0",
   "metadata": {},
   "outputs": [],
   "source": [
    "focus_group_respondents = pd.read_csv('../raw_data/focus_groups_0702.csv')  # import the file selected in the previous step\n",
    "print(len(focus_group_respondents))                                         # check the length of the file\n",
    "# focus_group_respondents.head(4)         "
   ]
  },
  {
   "cell_type": "code",
   "execution_count": null,
   "id": "970266df-1c4c-41ee-9338-cdf23163a788",
   "metadata": {},
   "outputs": [],
   "source": [
    "print(focus_group_respondents.columns)                                                                     # a quick check to see what the column names look like\n",
    "focus_group_respondents.columns = focus_group_respondents.columns.to_series().apply(lambda x: x.strip())   # renames the columns the same as what they were but with no trailing white space\n",
    "print(focus_group_respondents.columns)    "
   ]
  },
  {
   "cell_type": "code",
   "execution_count": null,
   "id": "786668cd-9881-4e6d-b0bd-78e942535d74",
   "metadata": {},
   "outputs": [],
   "source": [
    "focus_group_respondents.head()"
   ]
  },
  {
   "cell_type": "code",
   "execution_count": null,
   "id": "2b7f496a-5c4b-4ee5-9123-ea5e574493d0",
   "metadata": {},
   "outputs": [],
   "source": [
    "responses = focus_group_respondents.loc[:, ['Finished', 'ResponseId',\n",
    "                                            'Q1', 'Q2', 'Q3', 'Q4', 'Q5', 'Africa', 'UK', 'Europe', 'Americas', 'Asia/Oceana', 'Q6.5', 'Q7','Q8']]\n",
    "\n",
    "print(len(responses))"
   ]
  },
  {
   "cell_type": "code",
   "execution_count": null,
   "id": "b6b38349-bc51-4724-bcc5-899ccc060b4f",
   "metadata": {},
   "outputs": [],
   "source": [
    "responses.head()"
   ]
  },
  {
   "cell_type": "code",
   "execution_count": null,
   "id": "4c9daeaa-ae20-49f4-9645-c66a8a968220",
   "metadata": {},
   "outputs": [],
   "source": [
    "responses_cleaned = responses.rename(columns={\"Q1\": \"Name\", \"Q2\": \"Organisation\", \"Q3\": \"Email\", \"Q4\": \"Country\", \"Q5\": \"TimeZone\", \"Q6.5\": \"Any_further_info\", \"Q7\": \"Pronouns\", \"Q8\": \"Accommodations\"})"
   ]
  },
  {
   "cell_type": "markdown",
   "id": "64f51275-baa2-43a9-9410-48340dbb7964",
   "metadata": {},
   "source": [
    "To sort:\n",
    "\n",
    "* Drop any rows where key info is missing: name, email, org\n",
    "* Drop those if they have an email without a name or org? Depends how many\n",
    "There is no missing values for any of these columns\n",
    "\n",
    "* Drop those with gmail accounts?\n",
    "Without, we still have 45 respondents from Africa.\n",
    "\n",
    "* Drop any rows that have no time slots booked and no comments in the \"Other\" column\n",
    "Only 3 values but have been removed."
   ]
  },
  {
   "cell_type": "code",
   "execution_count": null,
   "id": "0f3a8055-6906-4829-a6fc-ccb299c32ff1",
   "metadata": {},
   "outputs": [],
   "source": [
    "gmail = responses_cleaned[responses_cleaned.Email.str.contains('gmail')].reset_index(drop = True)"
   ]
  },
  {
   "cell_type": "code",
   "execution_count": null,
   "id": "6cfc664a-d9bd-4508-822e-0e7d9a871ddc",
   "metadata": {},
   "outputs": [],
   "source": [
    "gmail.TimeZone.value_counts()"
   ]
  },
  {
   "cell_type": "code",
   "execution_count": null,
   "id": "af974189-6353-48bd-acc1-617aed9cd543",
   "metadata": {},
   "outputs": [],
   "source": [
    "# Let's remove these from our responses\n",
    "\n",
    "responses_cleaned = responses_cleaned[~responses_cleaned.Email.str.contains('gmail')].reset_index(drop = True)"
   ]
  },
  {
   "cell_type": "code",
   "execution_count": null,
   "id": "554d9111-61e3-4c9c-b9fb-24315df91c2a",
   "metadata": {},
   "outputs": [],
   "source": [
    "# We still have a decent amount of responses from Africa\n",
    "\n",
    "responses_cleaned.TimeZone.value_counts()"
   ]
  },
  {
   "cell_type": "code",
   "execution_count": null,
   "id": "a0a24113-05b6-43ad-98f3-75a332a5182a",
   "metadata": {},
   "outputs": [],
   "source": [
    "# Let's get rid of those who answered \"None of these dates work\"\n",
    "\n",
    "responses_cleaned = responses_cleaned[\n",
    "    ~(\n",
    "        (responses_cleaned['UK'].str.contains(\"None of these\", na=False)) |\n",
    "        (responses_cleaned['Europe'].str.contains(\"None of these\", na=False)) |\n",
    "        (responses_cleaned['Americas'].str.contains(\"None of these\", na=False)) |\n",
    "        (responses_cleaned['Asia/Oceana'].str.contains(\"None of these\", na=False)) |\n",
    "        (responses_cleaned['Africa'].str.contains(\"None of these\", na=False))\n",
    "    )\n",
    "]"
   ]
  },
  {
   "cell_type": "code",
   "execution_count": null,
   "id": "2ea42e1f-eb31-457a-9617-fc160f51a063",
   "metadata": {},
   "outputs": [],
   "source": [
    "VIPs = ['Irena Vipavc Brvar', 'Rajeev Samarage', 'Paula Lackie', 'Alita Nandi', 'Winny Nekesa AKULLO', 'San Cannon', 'Ricarda Braukmann', 'Deb Wiltshire', 'Olatunbosun Obileye', 'Wei Yin', 'Bobray Bordelon']"
   ]
  },
  {
   "cell_type": "code",
   "execution_count": null,
   "id": "7248619b-d2d1-433d-ab5a-0899c7c5bba4",
   "metadata": {},
   "outputs": [],
   "source": [
    "# Let's create a column based on whether the respondent is on our VIP list\n",
    "\n",
    "responses_cleaned['Invited'] = responses_cleaned['Name'].isin(VIPs).map({True: 'Yes', False: 'No'})"
   ]
  },
  {
   "cell_type": "code",
   "execution_count": null,
   "id": "4ca4e5e9-f818-40f6-a522-917dde35a687",
   "metadata": {},
   "outputs": [],
   "source": [
    "# Let's sort values with our VIPs at the top\n",
    "\n",
    "responses_cleaned = responses_cleaned.sort_values(by = 'Invited', ascending = False).reset_index(drop = True)"
   ]
  },
  {
   "cell_type": "code",
   "execution_count": null,
   "id": "32a6fa55-b633-49fc-83af-1a45a2cb12ec",
   "metadata": {},
   "outputs": [],
   "source": [
    "# Combine all regional time slots into a single column per person\n",
    "responses_cleaned[\"Available_Slots\"] = responses_cleaned[['Africa', 'UK', 'Europe', 'Americas', 'Asia/Oceana']].apply(\n",
    "    lambda row: [slot.strip() for slot in ', '.join(map(str, filter(None, row))).split('; ') if slot.strip()],\n",
    "    axis=1\n",
    ")"
   ]
  },
  {
   "cell_type": "code",
   "execution_count": null,
   "id": "a3056c1a-686b-40b8-b956-b3f2928979e8",
   "metadata": {},
   "outputs": [],
   "source": [
    "all_time_slots = sorted(set(slot.strip() for col in ['Africa', 'UK', 'Europe', 'Americas', 'Asia/Oceana']\n",
    "                            for slots in responses_cleaned[col].dropna().str.split(', ') for slot in slots))"
   ]
  },
  {
   "cell_type": "code",
   "execution_count": null,
   "id": "f8295002-29c8-4dd6-870f-e0a4b628126e",
   "metadata": {},
   "outputs": [],
   "source": [
    "all_time_slots[:2]"
   ]
  },
  {
   "cell_type": "code",
   "execution_count": null,
   "id": "ad6e03af-44df-4d89-9fb3-ecd877b75ae0",
   "metadata": {},
   "outputs": [],
   "source": [
    "for slot in all_time_slots:\n",
    "    responses_cleaned[slot] = \"No\""
   ]
  },
  {
   "cell_type": "code",
   "execution_count": null,
   "id": "204573f8-e7e9-45f1-a89f-7264684c65ca",
   "metadata": {},
   "outputs": [],
   "source": [
    "responses_cleaned"
   ]
  }
 ],
 "metadata": {
  "kernelspec": {
   "display_name": "Python 3 (ipykernel)",
   "language": "python",
   "name": "python3"
  },
  "language_info": {
   "codemirror_mode": {
    "name": "ipython",
    "version": 3
   },
   "file_extension": ".py",
   "mimetype": "text/x-python",
   "name": "python",
   "nbconvert_exporter": "python",
   "pygments_lexer": "ipython3",
   "version": "3.10.11"
  }
 },
 "nbformat": 4,
 "nbformat_minor": 5
}
